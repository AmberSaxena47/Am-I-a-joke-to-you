{
 "cells": [
  {
   "cell_type": "code",
   "execution_count": 1,
   "metadata": {
    "collapsed": true
   },
   "outputs": [],
   "source": [
    "import dash\n",
    "import plotly"
   ]
  },
  {
   "cell_type": "code",
   "execution_count": 2,
   "metadata": {
    "collapsed": true
   },
   "outputs": [],
   "source": [
    "import dash_core_components as dcc"
   ]
  },
  {
   "cell_type": "code",
   "execution_count": 3,
   "metadata": {
    "collapsed": true
   },
   "outputs": [],
   "source": [
    "import dash_html_components as html\n",
    "import numpy as np\n",
    "import plotly.graph_objs as go\n",
    "import pandas as pd"
   ]
  },
  {
   "cell_type": "code",
   "execution_count": 4,
   "metadata": {},
   "outputs": [],
   "source": [
    "app=dash.Dash()"
   ]
  },
  {
   "cell_type": "code",
   "execution_count": 5,
   "metadata": {},
   "outputs": [],
   "source": [
    "df = pd.read_csv('dash.csv')"
   ]
  },
  {
   "cell_type": "code",
   "execution_count": 6,
   "metadata": {},
   "outputs": [
    {
     "data": {
      "text/plain": [
       "(24720, 13)"
      ]
     },
     "execution_count": 6,
     "metadata": {},
     "output_type": "execute_result"
    }
   ],
   "source": [
    "df.shape"
   ]
  },
  {
   "cell_type": "code",
   "execution_count": null,
   "metadata": {},
   "outputs": [],
   "source": []
  },
  {
   "cell_type": "code",
   "execution_count": 7,
   "metadata": {
    "collapsed": true
   },
   "outputs": [
    {
     "data": {
      "text/plain": [
       "Balochistan                            2951\n",
       "Sindh                                  2701\n",
       "Khyber Pakhtunkhwa                     2611\n",
       "Jammu and Kashmir                      2158\n",
       "Federally Administered Tribal Areas    1785\n",
       "Punjab                                 1196\n",
       "Eastern                                 918\n",
       "Manipur                                 862\n",
       "Assam                                   800\n",
       "Chhattisgarh                            782\n",
       "Jharkhand                               615\n",
       "Dhaka                                   573\n",
       "Northern                                542\n",
       "West Bengal                             522\n",
       "Bihar                                   471\n",
       "Western                                 454\n",
       "Central                                 444\n",
       "North-West Frontier Province            394\n",
       "Odisha                                  359\n",
       "Chittagong                              306\n",
       "Meghalaya                               269\n",
       "Maharashtra                             237\n",
       "Andhra Pradesh                          220\n",
       "Khulna                                  176\n",
       "Uttar Pradesh                           144\n",
       "North Central                           140\n",
       "Tamil Nadu                              137\n",
       "Rajshahi                                132\n",
       "Southern                                132\n",
       "Orissa                                  122\n",
       "                                       ... \n",
       "Nagaland                                 90\n",
       "Kerala                                   88\n",
       "North Western                            69\n",
       "Madhya Pradesh                           65\n",
       "Uva                                      62\n",
       "Karnataka                                57\n",
       "Rangpur                                  52\n",
       "Gilgit-Baltistan                         42\n",
       "Province 3                               41\n",
       "Gujarat                                  39\n",
       "Far-Western                              39\n",
       "Sylhet                                   36\n",
       "Province 1                               35\n",
       "Sabaragamuwa                             35\n",
       "North Eastern                            34\n",
       "Haryana                                  32\n",
       "Barisal                                  31\n",
       "Province 2                               29\n",
       "Province 5                               27\n",
       "Rajasthan                                26\n",
       "Province 4                               26\n",
       "Chandigarh                               25\n",
       "Azad Kashmir                             24\n",
       "Mizoram                                  21\n",
       "Telangana                                21\n",
       "Arunachal Pradesh                        20\n",
       "Himachal Pradesh                         19\n",
       "Uttaranchal                              16\n",
       "Andhra pradesh                           15\n",
       "Province 7                               15\n",
       "Name: provstate, Length: 64, dtype: int64"
      ]
     },
     "execution_count": 7,
     "metadata": {},
     "output_type": "execute_result"
    }
   ],
   "source": [
    "df['provstate'].value_counts()"
   ]
  },
  {
   "cell_type": "code",
   "execution_count": 8,
   "metadata": {
    "collapsed": true
   },
   "outputs": [],
   "source": [
    "df2=df[df['provstate']=='Jammu and Kashmir']\n",
    "df3=df[df['provstate']=='Odisha']"
   ]
  },
  {
   "cell_type": "code",
   "execution_count": 9,
   "metadata": {},
   "outputs": [
    {
     "data": {
      "text/html": [
       "<div>\n",
       "<style scoped>\n",
       "    .dataframe tbody tr th:only-of-type {\n",
       "        vertical-align: middle;\n",
       "    }\n",
       "\n",
       "    .dataframe tbody tr th {\n",
       "        vertical-align: top;\n",
       "    }\n",
       "\n",
       "    .dataframe thead th {\n",
       "        text-align: right;\n",
       "    }\n",
       "</style>\n",
       "<table border=\"1\" class=\"dataframe\">\n",
       "  <thead>\n",
       "    <tr style=\"text-align: right;\">\n",
       "      <th></th>\n",
       "      <th>Unnamed: 0</th>\n",
       "      <th>eventid</th>\n",
       "      <th>iyear</th>\n",
       "      <th>imonth</th>\n",
       "      <th>iday</th>\n",
       "      <th>country_txt</th>\n",
       "      <th>provstate</th>\n",
       "      <th>city</th>\n",
       "      <th>latitude</th>\n",
       "      <th>longitude</th>\n",
       "      <th>gname</th>\n",
       "      <th>targtype1_txt</th>\n",
       "      <th>Threat</th>\n",
       "    </tr>\n",
       "  </thead>\n",
       "  <tbody>\n",
       "    <tr>\n",
       "      <th>78</th>\n",
       "      <td>78</td>\n",
       "      <td>198404170009</td>\n",
       "      <td>1984</td>\n",
       "      <td>4</td>\n",
       "      <td>17</td>\n",
       "      <td>India</td>\n",
       "      <td>Jammu and Kashmir</td>\n",
       "      <td>Bhela</td>\n",
       "      <td>33.315527</td>\n",
       "      <td>74.622476</td>\n",
       "      <td>Sikh Extremists</td>\n",
       "      <td>Private Citizens &amp; Property</td>\n",
       "      <td>43.179702</td>\n",
       "    </tr>\n",
       "    <tr>\n",
       "      <th>453</th>\n",
       "      <td>453</td>\n",
       "      <td>198801210005</td>\n",
       "      <td>1988</td>\n",
       "      <td>1</td>\n",
       "      <td>21</td>\n",
       "      <td>India</td>\n",
       "      <td>Jammu and Kashmir</td>\n",
       "      <td>Mand</td>\n",
       "      <td>32.888165</td>\n",
       "      <td>74.985168</td>\n",
       "      <td>Unknown</td>\n",
       "      <td>Police</td>\n",
       "      <td>60.445040</td>\n",
       "    </tr>\n",
       "    <tr>\n",
       "      <th>807</th>\n",
       "      <td>807</td>\n",
       "      <td>198807310002</td>\n",
       "      <td>1988</td>\n",
       "      <td>7</td>\n",
       "      <td>31</td>\n",
       "      <td>India</td>\n",
       "      <td>Jammu and Kashmir</td>\n",
       "      <td>Srinagar</td>\n",
       "      <td>34.083740</td>\n",
       "      <td>74.789902</td>\n",
       "      <td>Sikh Extremists</td>\n",
       "      <td>Private Citizens &amp; Property</td>\n",
       "      <td>43.179702</td>\n",
       "    </tr>\n",
       "    <tr>\n",
       "      <th>809</th>\n",
       "      <td>809</td>\n",
       "      <td>198808030005</td>\n",
       "      <td>1988</td>\n",
       "      <td>8</td>\n",
       "      <td>3</td>\n",
       "      <td>India</td>\n",
       "      <td>Jammu and Kashmir</td>\n",
       "      <td>Nikke</td>\n",
       "      <td>33.466667</td>\n",
       "      <td>74.963611</td>\n",
       "      <td>Sikh Extremists</td>\n",
       "      <td>Private Citizens &amp; Property</td>\n",
       "      <td>43.179702</td>\n",
       "    </tr>\n",
       "    <tr>\n",
       "      <th>914</th>\n",
       "      <td>914</td>\n",
       "      <td>198810270001</td>\n",
       "      <td>1988</td>\n",
       "      <td>10</td>\n",
       "      <td>27</td>\n",
       "      <td>India</td>\n",
       "      <td>Jammu and Kashmir</td>\n",
       "      <td>Srinagar</td>\n",
       "      <td>34.083740</td>\n",
       "      <td>74.789902</td>\n",
       "      <td>Unknown</td>\n",
       "      <td>Private Citizens &amp; Property</td>\n",
       "      <td>60.445040</td>\n",
       "    </tr>\n",
       "  </tbody>\n",
       "</table>\n",
       "</div>"
      ],
      "text/plain": [
       "     Unnamed: 0       eventid  iyear  imonth  iday country_txt  \\\n",
       "78           78  198404170009   1984       4    17       India   \n",
       "453         453  198801210005   1988       1    21       India   \n",
       "807         807  198807310002   1988       7    31       India   \n",
       "809         809  198808030005   1988       8     3       India   \n",
       "914         914  198810270001   1988      10    27       India   \n",
       "\n",
       "             provstate      city   latitude  longitude            gname  \\\n",
       "78   Jammu and Kashmir     Bhela  33.315527  74.622476  Sikh Extremists   \n",
       "453  Jammu and Kashmir      Mand  32.888165  74.985168          Unknown   \n",
       "807  Jammu and Kashmir  Srinagar  34.083740  74.789902  Sikh Extremists   \n",
       "809  Jammu and Kashmir     Nikke  33.466667  74.963611  Sikh Extremists   \n",
       "914  Jammu and Kashmir  Srinagar  34.083740  74.789902          Unknown   \n",
       "\n",
       "                   targtype1_txt     Threat  \n",
       "78   Private Citizens & Property  43.179702  \n",
       "453                       Police  60.445040  \n",
       "807  Private Citizens & Property  43.179702  \n",
       "809  Private Citizens & Property  43.179702  \n",
       "914  Private Citizens & Property  60.445040  "
      ]
     },
     "execution_count": 9,
     "metadata": {},
     "output_type": "execute_result"
    }
   ],
   "source": [
    "df2.head()"
   ]
  },
  {
   "cell_type": "code",
   "execution_count": null,
   "metadata": {
    "collapsed": true
   },
   "outputs": [],
   "source": []
  },
  {
   "cell_type": "code",
   "execution_count": 10,
   "metadata": {},
   "outputs": [
    {
     "data": {
      "text/html": [
       "<div>\n",
       "<style scoped>\n",
       "    .dataframe tbody tr th:only-of-type {\n",
       "        vertical-align: middle;\n",
       "    }\n",
       "\n",
       "    .dataframe tbody tr th {\n",
       "        vertical-align: top;\n",
       "    }\n",
       "\n",
       "    .dataframe thead th {\n",
       "        text-align: right;\n",
       "    }\n",
       "</style>\n",
       "<table border=\"1\" class=\"dataframe\">\n",
       "  <thead>\n",
       "    <tr style=\"text-align: right;\">\n",
       "      <th></th>\n",
       "      <th>Unnamed: 0</th>\n",
       "      <th>eventid</th>\n",
       "      <th>iyear</th>\n",
       "      <th>imonth</th>\n",
       "      <th>iday</th>\n",
       "      <th>country_txt</th>\n",
       "      <th>provstate</th>\n",
       "      <th>city</th>\n",
       "      <th>latitude</th>\n",
       "      <th>longitude</th>\n",
       "      <th>gname</th>\n",
       "      <th>targtype1_txt</th>\n",
       "      <th>Threat</th>\n",
       "    </tr>\n",
       "  </thead>\n",
       "  <tbody>\n",
       "    <tr>\n",
       "      <th>1371</th>\n",
       "      <td>1371</td>\n",
       "      <td>198908290015</td>\n",
       "      <td>1989</td>\n",
       "      <td>8</td>\n",
       "      <td>29</td>\n",
       "      <td>India</td>\n",
       "      <td>Odisha</td>\n",
       "      <td>Barbil</td>\n",
       "      <td>22.105340</td>\n",
       "      <td>85.378964</td>\n",
       "      <td>Bodo Militants</td>\n",
       "      <td>Transportation</td>\n",
       "      <td>31.877315</td>\n",
       "    </tr>\n",
       "    <tr>\n",
       "      <th>5991</th>\n",
       "      <td>5991</td>\n",
       "      <td>200208110006</td>\n",
       "      <td>2002</td>\n",
       "      <td>8</td>\n",
       "      <td>11</td>\n",
       "      <td>India</td>\n",
       "      <td>Odisha</td>\n",
       "      <td>Gathalpadar</td>\n",
       "      <td>20.776665</td>\n",
       "      <td>84.898565</td>\n",
       "      <td>People's War Group (PWG)</td>\n",
       "      <td>Military</td>\n",
       "      <td>33.501493</td>\n",
       "    </tr>\n",
       "    <tr>\n",
       "      <th>9863</th>\n",
       "      <td>9863</td>\n",
       "      <td>201012020012</td>\n",
       "      <td>2010</td>\n",
       "      <td>12</td>\n",
       "      <td>2</td>\n",
       "      <td>India</td>\n",
       "      <td>Odisha</td>\n",
       "      <td>Banspal</td>\n",
       "      <td>21.390826</td>\n",
       "      <td>85.373043</td>\n",
       "      <td>Communist Party of India - Maoist (CPI-Maoist)</td>\n",
       "      <td>Police</td>\n",
       "      <td>45.966389</td>\n",
       "    </tr>\n",
       "    <tr>\n",
       "      <th>9926</th>\n",
       "      <td>9926</td>\n",
       "      <td>201101090001</td>\n",
       "      <td>2011</td>\n",
       "      <td>1</td>\n",
       "      <td>9</td>\n",
       "      <td>India</td>\n",
       "      <td>Odisha</td>\n",
       "      <td>Sundargarh</td>\n",
       "      <td>22.235807</td>\n",
       "      <td>84.925348</td>\n",
       "      <td>Communist Party of India - Maoist (CPI-Maoist)</td>\n",
       "      <td>Transportation</td>\n",
       "      <td>45.966389</td>\n",
       "    </tr>\n",
       "    <tr>\n",
       "      <th>9932</th>\n",
       "      <td>9932</td>\n",
       "      <td>201101110004</td>\n",
       "      <td>2011</td>\n",
       "      <td>1</td>\n",
       "      <td>11</td>\n",
       "      <td>India</td>\n",
       "      <td>Odisha</td>\n",
       "      <td>Koraput district</td>\n",
       "      <td>18.815236</td>\n",
       "      <td>82.712102</td>\n",
       "      <td>Communist Party of India - Maoist (CPI-Maoist)</td>\n",
       "      <td>Government (General)</td>\n",
       "      <td>45.966389</td>\n",
       "    </tr>\n",
       "  </tbody>\n",
       "</table>\n",
       "</div>"
      ],
      "text/plain": [
       "      Unnamed: 0       eventid  iyear  imonth  iday country_txt provstate  \\\n",
       "1371        1371  198908290015   1989       8    29       India    Odisha   \n",
       "5991        5991  200208110006   2002       8    11       India    Odisha   \n",
       "9863        9863  201012020012   2010      12     2       India    Odisha   \n",
       "9926        9926  201101090001   2011       1     9       India    Odisha   \n",
       "9932        9932  201101110004   2011       1    11       India    Odisha   \n",
       "\n",
       "                  city   latitude  longitude  \\\n",
       "1371            Barbil  22.105340  85.378964   \n",
       "5991       Gathalpadar  20.776665  84.898565   \n",
       "9863           Banspal  21.390826  85.373043   \n",
       "9926        Sundargarh  22.235807  84.925348   \n",
       "9932  Koraput district  18.815236  82.712102   \n",
       "\n",
       "                                               gname         targtype1_txt  \\\n",
       "1371                                  Bodo Militants        Transportation   \n",
       "5991                        People's War Group (PWG)              Military   \n",
       "9863  Communist Party of India - Maoist (CPI-Maoist)                Police   \n",
       "9926  Communist Party of India - Maoist (CPI-Maoist)        Transportation   \n",
       "9932  Communist Party of India - Maoist (CPI-Maoist)  Government (General)   \n",
       "\n",
       "         Threat  \n",
       "1371  31.877315  \n",
       "5991  33.501493  \n",
       "9863  45.966389  \n",
       "9926  45.966389  \n",
       "9932  45.966389  "
      ]
     },
     "execution_count": 10,
     "metadata": {},
     "output_type": "execute_result"
    }
   ],
   "source": [
    "df3.head()"
   ]
  },
  {
   "cell_type": "code",
   "execution_count": null,
   "metadata": {
    "collapsed": true
   },
   "outputs": [],
   "source": []
  },
  {
   "cell_type": "code",
   "execution_count": null,
   "metadata": {
    "collapsed": true
   },
   "outputs": [],
   "source": []
  },
  {
   "cell_type": "code",
   "execution_count": 11,
   "metadata": {},
   "outputs": [
    {
     "name": "stderr",
     "output_type": "stream",
     "text": [
      "C:\\Users\\user\\Anaconda3\\lib\\site-packages\\ipykernel_launcher.py:1: SettingWithCopyWarning:\n",
      "\n",
      "\n",
      "A value is trying to be set on a copy of a slice from a DataFrame.\n",
      "Try using .loc[row_indexer,col_indexer] = value instead\n",
      "\n",
      "See the caveats in the documentation: http://pandas.pydata.org/pandas-docs/stable/indexing.html#indexing-view-versus-copy\n",
      "\n"
     ]
    }
   ],
   "source": [
    "df2['text'] = df2['city'] + ', ' + df2['provstate'] + '' + 'Arrivals: ' + df2['Threat'].astype(str)"
   ]
  },
  {
   "cell_type": "code",
   "execution_count": 12,
   "metadata": {},
   "outputs": [],
   "source": [
    "plotly.tools.set_credentials_file(username='amber.sa97', api_key='oGPcE8EP76oYLaSfm1y5')\n",
    "mapbox_access_token = 'pk.eyJ1IjoiYW1iZXItc2F4ZW5hIiwiYSI6ImNqdDk1d3p5NzAydXEzeW1kMTYyMG9xZmsifQ.OoExrgP7MJoOvCBduoNy1w'\n",
    "\n"
   ]
  },
  {
   "cell_type": "code",
   "execution_count": 13,
   "metadata": {},
   "outputs": [],
   "source": [
    "\n",
    "\n",
    "\n",
    "# scl = [ [0,\"rgb(5, 10, 172)\"],[0.35,\"rgb(40, 60, 190)\"],[0.5,\"rgb(70, 100, 245)\"],\\\n",
    "#     [0.6,\"rgb(90, 120, 245)\"],[0.7,\"rgb(106, 137, 247)\"],[1,\"rgb(220, 220, 220)\"] ]\n",
    "\n",
    "# data = [ dict(\n",
    "#         type = 'scattergeo',\n",
    "#         locationmode = 'Asia',\n",
    "#         lon = df2['longitude'],\n",
    "#         lat = df2['latitude'],\n",
    "#         text = df2['text'],\n",
    "#         mode = 'markers',\n",
    "#         marker = dict(\n",
    "#             size = 5,\n",
    "#             opacity = 0.5,\n",
    "#             reversescale = True,\n",
    "#             autocolorscale = False,\n",
    "#             symbol = 'dot',\n",
    "#             line = dict(\n",
    "#                 width=1,\n",
    "#                 color='rgba(102, 102, 102)'\n",
    "#             ),\n",
    "#             colorscale = scl,\n",
    "#             cmin = 0,\n",
    "#             color = df2['Threat'],\n",
    "#             cmax = df2['Threat'].max(),\n",
    "#             colorbar=dict(\n",
    "#                 title=\"Incoming flightsFebruary 2011\"\n",
    "#             )\n",
    "#         ))]\n",
    "\n",
    "# layout = dict(\n",
    "#         title = 'Most terrorist effected areas<br>(Hover for city names)',\n",
    "#         colorbar = True,\n",
    "#         geo = dict(\n",
    "#             scope='world',\n",
    "#             projection=dict( type='natural earth' ),\n",
    "#             showland = True,\n",
    "#             landcolor = \"rgb(250, 250, 250)\",\n",
    "#             subunitcolor = \"rgb(217, 217, 217)\",\n",
    "#             countrycolor = \"rgb(217, 217, 217)\",\n",
    "#             countrywidth = 0.5,\n",
    "#             subunitwidth = 0.5\n",
    "#         ),\n",
    "#     )\n",
    "\n",
    "# data = [\n",
    "#     go.Scattermapbox(\n",
    "#         lat=['28.7041'],\n",
    "#         lon=['77.1025'],\n",
    "#         mode='markers',\n",
    "#         marker=go.scattermapbox.Marker(\n",
    "#             size=14\n",
    "#         ),\n",
    "#         text=['India'],\n",
    "#     )\n",
    "# ]\n",
    "\n",
    "# layout = go.Layout(\n",
    "#     autosize=True,\n",
    "#     hovermode='closest',\n",
    "#     mapbox=go.layout.Mapbox(\n",
    "#         accesstoken=mapbox_access_token,\n",
    "#         bearing=0,\n",
    "#         center=go.layout.mapbox.Center(\n",
    "#             lat=28,\n",
    "#             lon=80\n",
    "#         ),\n",
    "#         pitch=0,\n",
    "#         zoom=5\n",
    "#     ),\n",
    "# )\n",
    "\n",
    "# fig = go.Figure(data=data, layout=layout)\n",
    "\n",
    "#  fig = dict( data=data, layout=layout )    \n",
    "\n",
    "# app.layout  = html.Div([\n",
    "#     dcc.Graph(id='graph', figure=fig)\n",
    "# ])\n",
    "\n"
   ]
  },
  {
   "cell_type": "code",
   "execution_count": null,
   "metadata": {
    "collapsed": true
   },
   "outputs": [],
   "source": []
  },
  {
   "cell_type": "code",
   "execution_count": null,
   "metadata": {
    "collapsed": true
   },
   "outputs": [],
   "source": []
  },
  {
   "cell_type": "code",
   "execution_count": 14,
   "metadata": {},
   "outputs": [],
   "source": [
    "k = []\n",
    "for i in range(101):\n",
    "    r=2.55*i;\n",
    "    b=2.55*(100-i);\n",
    "    g=0;\n",
    "    l=[i/100,\"rgb({}, {}, {})\".format(r, g, b)]\n",
    "    k.append(l)\n",
    "# print(k)"
   ]
  },
  {
   "cell_type": "code",
   "execution_count": 15,
   "metadata": {
    "collapsed": true
   },
   "outputs": [],
   "source": [
    "# scl = [ [0,'rgb(0, 0, 255.3)'],[0.20,'rgb(50,0,230)'],[0.35,'rgb(90, 0, 166)'],[0.5,'rgb(128, 0, 128)'],\\\n",
    "#     [0.6,'rgb(153, 0, 102)'],[0.7,'rgb(180, 0, 77)'],[1,'rgb(255, 0, 0)'] ]"
   ]
  },
  {
   "cell_type": "code",
   "execution_count": 37,
   "metadata": {},
   "outputs": [],
   "source": [
    "# scl = [ [0,\"rgb(0, 0, 255)\"],[0.20,\"rgb(,0,230)\"],[0.35,\"rgb(90, 0, 166)\"],[0.5,\"rgb(128, 0, 128)\"],\\\n",
    "#     [0.6,\"rgb(153, 0, 102)\"],[0.7,\"rgb(180, 0, 77)\"],[1,\"rgb(255, 0, 0)\"] ]\n",
    "# # k = []\n",
    "# # for i in range(100):\n",
    "# #     r=2.55*i;\n",
    "#     b=2.55*(100-i);\n",
    "#     g=0;\n",
    "#     l=[i,\"rgb({}, {}, {})\".format(r, g, b)]\n",
    "#     k.append(l)\n",
    "# scl = [ [0,\"rgb(5, 10, 172)\"],[0.35,\"rgb(40, 60, 190)\"],[0.5,\"rgb(70, 100, 245)\"],\\\n",
    "#     [0.6,\"rgb(90, 120, 245)\"],[0.7,\"rgb(106, 137, 247)\"],[1,\"rgb(220, 220, 220)\"] ]\n",
    "site_lat = df2.latitude\n",
    "site_lon = df2.longitude\n",
    "locations_name = df2.city\n",
    "\n",
    "data = [\n",
    "    go.Scattermapbox(\n",
    "        lat=site_lat,\n",
    "        lon=site_lon,\n",
    "        mode='markers',\n",
    "        marker=go.scattermapbox.Marker(\n",
    "            size=17,\n",
    "            colorscale=k,\n",
    "            color=df2['Threat'],\n",
    "            opacity=0.4\n",
    "        ),\n",
    "        text=locations_name,\n",
    "        hoverinfo='text'\n",
    "#     ),\n",
    "#     go.Scattermapbox(\n",
    "#         lat=site_lat,\n",
    "#         lon=site_lon,\n",
    "#         mode='markers',\n",
    "#         marker=go.scattermapbox.Marker(\n",
    "#             size=17,\n",
    "#             colorscale=k,\n",
    "#             color=df2['Threat'],\n",
    "#             opacity=0.4\n",
    "#         ),\n",
    "#         hoverinfo='none'\n",
    "    )]\n",
    "        \n",
    "layout = go.Layout(\n",
    "    title='Threat',\n",
    "    autosize=True,\n",
    "    hovermode='closest',\n",
    "    showlegend=False,\n",
    "    mapbox=go.layout.Mapbox(\n",
    "        accesstoken=mapbox_access_token,\n",
    "        bearing=0,\n",
    "        center=go.layout.mapbox.Center(\n",
    "            lat=28,\n",
    "            lon=80\n",
    "        ),\n",
    "        pitch=0,\n",
    "        zoom=3,\n",
    "        style='light'\n",
    "    ),\n",
    ")\n",
    "\n",
    "fig = go.Figure(data=data, layout=layout)\n",
    "\n",
    "app.layout  = html.Div([\n",
    "    dcc.Dropdown(\n",
    "        id='Sample',\n",
    "        options=[\n",
    "            {'label' : 'Delhi' , 'value' : 'DEL'},\n",
    "            {'label' : 'Mumbai' , 'value' : 'MUM'},\n",
    "            {'label' : 'Lucknow' , 'value' : 'LKO'}\n",
    "        ],\n",
    "        value='LKO'\n",
    "    ),\n",
    "    dcc.Graph(id='graph', figure=fig)\n",
    "])"
   ]
  },
  {
   "cell_type": "code",
   "execution_count": 33,
   "metadata": {},
   "outputs": [],
   "source": [
    "# app.layout=html.Div([\n",
    "#     dcc.Dropdown(\n",
    "#         id='Sample',\n",
    "#         options=[\n",
    "#             {'label' : 'Delhi' , 'value' : 'DEL'},\n",
    "#             {'label' : 'Mumbai' , 'value' : 'MUM'},\n",
    "#             {'label' : 'Lucknow' , 'value' : 'LKO'}\n",
    "#         ],\n",
    "#         value='LKO'\n",
    "#     )\n",
    "# ])"
   ]
  },
  {
   "cell_type": "code",
   "execution_count": null,
   "metadata": {},
   "outputs": [
    {
     "name": "stderr",
     "output_type": "stream",
     "text": [
      " * Running on http://127.0.0.1:4050/ (Press CTRL+C to quit)\n",
      "127.0.0.1 - - [16/Mar/2019 13:57:06] \"GET / HTTP/1.1\" 200 -\n",
      "127.0.0.1 - - [16/Mar/2019 13:57:08] \"GET /_dash-layout HTTP/1.1\" 200 -\n",
      "127.0.0.1 - - [16/Mar/2019 13:57:08] \"GET /_dash-dependencies HTTP/1.1\" 200 -\n"
     ]
    }
   ],
   "source": [
    "if __name__ == '__main__':\n",
    "    app.run_server(port =4050)"
   ]
  },
  {
   "cell_type": "code",
   "execution_count": null,
   "metadata": {
    "collapsed": true
   },
   "outputs": [],
   "source": []
  }
 ],
 "metadata": {
  "kernelspec": {
   "display_name": "Python 3",
   "language": "python",
   "name": "python3"
  },
  "language_info": {
   "codemirror_mode": {
    "name": "ipython",
    "version": 3
   },
   "file_extension": ".py",
   "mimetype": "text/x-python",
   "name": "python",
   "nbconvert_exporter": "python",
   "pygments_lexer": "ipython3",
   "version": "3.6.3"
  }
 },
 "nbformat": 4,
 "nbformat_minor": 2
}
